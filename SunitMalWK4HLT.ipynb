{
  "nbformat": 4,
  "nbformat_minor": 0,
  "metadata": {
    "colab": {
      "name": "SunitMalWK4HLT.ipynb",
      "provenance": [],
      "collapsed_sections": [],
      "authorship_tag": "ABX9TyNiTqAX4uySEdcRseDLlb/i",
      "include_colab_link": true
    },
    "kernelspec": {
      "name": "python3",
      "display_name": "Python 3"
    },
    "language_info": {
      "name": "python"
    }
  },
  "cells": [
    {
      "cell_type": "markdown",
      "metadata": {
        "id": "view-in-github",
        "colab_type": "text"
      },
      "source": [
        "<a href=\"https://colab.research.google.com/github/sunitmal/DataAcademySunitMal/blob/main/SunitMalWK4HLT.ipynb\" target=\"_parent\"><img src=\"https://colab.research.google.com/assets/colab-badge.svg\" alt=\"Open In Colab\"/></a>"
      ]
    },
    {
      "cell_type": "code",
      "metadata": {
        "colab": {
          "base_uri": "https://localhost:8080/"
        },
        "id": "oQCAADlyAKa1",
        "outputId": "dc4c7b1a-24f9-41a3-c8aa-e8cc3f80766b"
      },
      "source": [
        "#WEEK 4 PANDAS TASK 1#\n",
        "\n",
        "holiday = pd.read_csv(\"SMHLTWK4.ipynb.csv\")\n",
        "print(holiday)\n",
        "\n",
        "data = list(holiday)\n",
        "row_count = len(data)\n"
      ],
      "execution_count": 23,
      "outputs": [
        {
          "output_type": "stream",
          "text": [
            "   DESTINATIONS  ...  MOST VISITED CITY\n",
            "0        FRANCE  ...              PARIS\n",
            "1        TURKEY  ...            ANTALYA\n",
            "2       GERMANY  ...             BERLIN\n",
            "3         ITALY  ...               ROME\n",
            "4         SPAIN  ...             MADRID\n",
            "5        GREECE  ...             ATHENS\n",
            "6        AFRICA  ...          CAPE TOWN\n",
            "7       JAMAICA  ...           KINGSTON\n",
            "8       AMERICA  ...           NEW YORK\n",
            "9         CHINA  ...            BEIJING\n",
            "10       RUSSIA  ...             MOSCOW\n",
            "11        INDIA  ...              DELHI\n",
            "12    AUSTRALIA  ...             SYDNEY\n",
            "13        JAPAN  ...              TOKYO\n",
            "14     MALAYSIA  ...       KUALA LUMPUR\n",
            "\n",
            "[15 rows x 5 columns]\n"
          ],
          "name": "stdout"
        }
      ]
    },
    {
      "cell_type": "code",
      "metadata": {
        "colab": {
          "base_uri": "https://localhost:8080/"
        },
        "id": "-TehTchzJZKN",
        "outputId": "6d5afded-d9b1-4954-9ff0-7850e1a8eea9"
      },
      "source": [
        "#WEEK 4 PANDAS TASK 2#\n",
        "import pandas as pd\n",
        "\n",
        "holiday = pd.read_csv(\"SMHLTWK4.ipynb.csv\")\n",
        "frame = holiday\n",
        "print(frame)\n",
        "\n",
        "print(frame.loc[3:8])"
      ],
      "execution_count": 37,
      "outputs": [
        {
          "output_type": "stream",
          "text": [
            "   DESTINATIONS  ...  MOST VISITED CITY\n",
            "0        FRANCE  ...              PARIS\n",
            "1        TURKEY  ...            ANTALYA\n",
            "2       GERMANY  ...             BERLIN\n",
            "3         ITALY  ...               ROME\n",
            "4         SPAIN  ...             MADRID\n",
            "5        GREECE  ...             ATHENS\n",
            "6        AFRICA  ...          CAPE TOWN\n",
            "7       JAMAICA  ...           KINGSTON\n",
            "8       AMERICA  ...           NEW YORK\n",
            "9         CHINA  ...            BEIJING\n",
            "10       RUSSIA  ...             MOSCOW\n",
            "11        INDIA  ...              DELHI\n",
            "12    AUSTRALIA  ...             SYDNEY\n",
            "13        JAPAN  ...              TOKYO\n",
            "14     MALAYSIA  ...       KUALA LUMPUR\n",
            "\n",
            "[15 rows x 5 columns]\n",
            "  DESTINATIONS  ...  MOST VISITED CITY\n",
            "3        ITALY  ...               ROME\n",
            "4        SPAIN  ...             MADRID\n",
            "5       GREECE  ...             ATHENS\n",
            "6       AFRICA  ...          CAPE TOWN\n",
            "7      JAMAICA  ...           KINGSTON\n",
            "8      AMERICA  ...           NEW YORK\n",
            "\n",
            "[6 rows x 5 columns]\n"
          ],
          "name": "stdout"
        }
      ]
    },
    {
      "cell_type": "code",
      "metadata": {
        "colab": {
          "base_uri": "https://localhost:8080/"
        },
        "id": "6TkNlMvWO_9t",
        "outputId": "967f1570-654c-4348-9206-2d503a6f1c9a"
      },
      "source": [
        "#WEEK 4 PANDAS TASK 3#\n",
        "\n",
        "import pandas as pd\n",
        "\n",
        "data = pd.read_csv(\"SMHLTWK4.ipynb.csv\")\n",
        "\n",
        "data[\"NUMBER OF ALL INCLUSIVE HOTELS\"].mean()\n"
      ],
      "execution_count": 39,
      "outputs": [
        {
          "output_type": "execute_result",
          "data": {
            "text/plain": [
              "23.533333333333335"
            ]
          },
          "metadata": {
            "tags": []
          },
          "execution_count": 39
        }
      ]
    },
    {
      "cell_type": "code",
      "metadata": {
        "colab": {
          "base_uri": "https://localhost:8080/"
        },
        "id": "gp57qZV-QzNB",
        "outputId": "bbf19b2e-0a52-4f45-a30a-216dbd74ba9f"
      },
      "source": [
        "#WEEK 4 PANDAS TASK 4#\n",
        "\n",
        "import pandas as pd\n",
        "\n",
        "data = pd.read_csv(\"SMHLTWK4.ipynb.csv\")\n",
        "\n",
        "lowscore = data[\"FEEDBACK SCORE\"]\n",
        "\n",
        "lowscore.nsmallest()\n",
        "\n",
        "\n"
      ],
      "execution_count": 63,
      "outputs": [
        {
          "output_type": "execute_result",
          "data": {
            "text/plain": [
              "1     5\n",
              "9     5\n",
              "2     6\n",
              "10    6\n",
              "0     7\n",
              "Name: FEEDBACK SCORE, dtype: int64"
            ]
          },
          "metadata": {
            "tags": []
          },
          "execution_count": 63
        }
      ]
    },
    {
      "cell_type": "code",
      "metadata": {
        "colab": {
          "base_uri": "https://localhost:8080/"
        },
        "id": "X2HlIl2vb759",
        "outputId": "121ab779-d8de-471f-eb53-306be0c50db1"
      },
      "source": [
        "#WEEK 4 PANDAS TASK 5#\n",
        "\n",
        "import pandas as pd\n",
        "\n",
        "data = pd.read_csv(\"SMHLTWK4.ipynb.csv\")\n",
        "\n",
        "highscore = data[\"FEEDBACK SCORE\"]\n",
        "\n",
        "highscore.nlargest()\n"
      ],
      "execution_count": 64,
      "outputs": [
        {
          "output_type": "execute_result",
          "data": {
            "text/plain": [
              "7     10\n",
              "8     10\n",
              "14    10\n",
              "6      9\n",
              "12     9\n",
              "Name: FEEDBACK SCORE, dtype: int64"
            ]
          },
          "metadata": {
            "tags": []
          },
          "execution_count": 64
        }
      ]
    },
    {
      "cell_type": "code",
      "metadata": {
        "colab": {
          "base_uri": "https://localhost:8080/"
        },
        "id": "gonJDjypfyNr",
        "outputId": "d3e5a3fa-725a-4c63-efbd-cfa80001ec2e"
      },
      "source": [
        "#WEEK 4 PANDAS TASK 6#\n",
        "\n",
        "import pandas as pd\n",
        "\n",
        "data = pd.read_csv(\"SMHLTWK4.ipynb.csv\")\n",
        "\n",
        "data.sum = data[\"DESTINATIONS\"]\n",
        "\n",
        "sum = data[\"NUMBER OF ALL INCLUSIVE HOTELS\"]\n",
        "\n",
        "(sum >9).all()\n",
        "\n",
        "print(data.sum)\n",
        "\n",
        "\n"
      ],
      "execution_count": 126,
      "outputs": [
        {
          "output_type": "stream",
          "text": [
            "0        FRANCE\n",
            "1        TURKEY\n",
            "2       GERMANY\n",
            "3         ITALY\n",
            "4         SPAIN\n",
            "5        GREECE\n",
            "6        AFRICA\n",
            "7       JAMAICA\n",
            "8       AMERICA\n",
            "9         CHINA\n",
            "10       RUSSIA\n",
            "11        INDIA\n",
            "12    AUSTRALIA\n",
            "13        JAPAN\n",
            "14     MALAYSIA\n",
            "Name: DESTINATIONS, dtype: object\n"
          ],
          "name": "stdout"
        }
      ]
    },
    {
      "cell_type": "code",
      "metadata": {
        "colab": {
          "base_uri": "https://localhost:8080/"
        },
        "id": "iO9Dv088mNfZ",
        "outputId": "8bb0774b-6e07-4330-f382-2bdd0e4fc466"
      },
      "source": [
        "#WEEK 4 PANDAS TASK 7#\n",
        "\n",
        "import pandas as pd\n",
        "\n",
        "data = pd.read_csv(\"SMHLTWK4.ipynb.csv\")\n",
        "\n",
        "data.score = (\"NUMBER OF ALL INCLUSIVE HOTELS\")\n",
        "\n",
        "score = data[\"NUMBER OF ALL INCLUSIVE HOTELS\"]\n",
        "\n",
        "print(score>8)"
      ],
      "execution_count": 109,
      "outputs": [
        {
          "output_type": "stream",
          "text": [
            "0     True\n",
            "1     True\n",
            "2     True\n",
            "3     True\n",
            "4     True\n",
            "5     True\n",
            "6     True\n",
            "7     True\n",
            "8     True\n",
            "9     True\n",
            "10    True\n",
            "11    True\n",
            "12    True\n",
            "13    True\n",
            "14    True\n",
            "Name: NUMBER OF ALL INCLUSIVE HOTELS, dtype: bool\n"
          ],
          "name": "stdout"
        }
      ]
    },
    {
      "cell_type": "code",
      "metadata": {
        "colab": {
          "base_uri": "https://localhost:8080/"
        },
        "id": "Mu52LGCAl5vE",
        "outputId": "08eaff77-3e25-403a-e1cc-53e2311ce9dd"
      },
      "source": [
        "#WEEK 4 PANDAS TASK 8#\n",
        "\n",
        "import pandas as pd\n",
        "\n",
        "data = pd.read_csv(\"SMHLTWK4.ipynb.csv\")\n",
        "\n",
        "data.score = (\"NUMBER OF ALL INCLUSIVE HOTELS\")\n",
        "\n",
        "score = data[\"NUMBER OF ALL INCLUSIVE HOTELS\"]\n",
        "\n",
        "print(score<2)"
      ],
      "execution_count": 105,
      "outputs": [
        {
          "output_type": "stream",
          "text": [
            "0     False\n",
            "1     False\n",
            "2     False\n",
            "3     False\n",
            "4     False\n",
            "5     False\n",
            "6     False\n",
            "7     False\n",
            "8     False\n",
            "9     False\n",
            "10    False\n",
            "11    False\n",
            "12    False\n",
            "13    False\n",
            "14    False\n",
            "Name: NUMBER OF ALL INCLUSIVE HOTELS, dtype: bool\n"
          ],
          "name": "stdout"
        }
      ]
    }
  ]
}