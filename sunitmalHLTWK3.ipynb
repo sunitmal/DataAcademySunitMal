{
  "nbformat": 4,
  "nbformat_minor": 0,
  "metadata": {
    "colab": {
      "name": "sunitmalHLTWK3.ipynb",
      "provenance": [],
      "collapsed_sections": [],
      "authorship_tag": "ABX9TyM2CE74SDeCaybzu9ZodIeb",
      "include_colab_link": true
    },
    "kernelspec": {
      "name": "python3",
      "display_name": "Python 3"
    },
    "language_info": {
      "name": "python"
    }
  },
  "cells": [
    {
      "cell_type": "markdown",
      "metadata": {
        "id": "view-in-github",
        "colab_type": "text"
      },
      "source": [
        "<a href=\"https://colab.research.google.com/github/sunitmal/DataAcademySunitMal/blob/main/sunitmalHLTWK3.ipynb\" target=\"_parent\"><img src=\"https://colab.research.google.com/assets/colab-badge.svg\" alt=\"Open In Colab\"/></a>"
      ]
    },
    {
      "cell_type": "code",
      "metadata": {
        "colab": {
          "base_uri": "https://localhost:8080/"
        },
        "id": "9krCchnVSl7c",
        "outputId": "bf9100cc-6e5c-40a5-f951-9c6609e6f1e7"
      },
      "source": [
        "# WEEK 3 Numpy TASK 1#\n",
        "\n",
        "import numpy as np\n",
        "array=np.arange(0,10)\n",
        "print(array)"
      ],
      "execution_count": 18,
      "outputs": [
        {
          "output_type": "stream",
          "text": [
            "[0 1 2 3 4 5 6 7 8 9]\n"
          ],
          "name": "stdout"
        }
      ]
    },
    {
      "cell_type": "code",
      "metadata": {
        "colab": {
          "base_uri": "https://localhost:8080/"
        },
        "id": "07DICxCgTz2z",
        "outputId": "39fd65e7-335b-4a64-9934-f74c64c8ad68"
      },
      "source": [
        "#WEEK 3 Numpy TASK 2#\n",
        "\n",
        "import numpy as np\n",
        "\n",
        "sample_arr = [True]\n",
        "\n",
        "bool_arr = np.random.choice(sample_arr, size=(3,3))\n",
        "\n",
        "print('2D Numpy Array: ')\n",
        "print(bool_arr)\n",
        "\n"
      ],
      "execution_count": 35,
      "outputs": [
        {
          "output_type": "stream",
          "text": [
            "2D Numpy Array: \n",
            "[[ True  True  True]\n",
            " [ True  True  True]\n",
            " [ True  True  True]]\n"
          ],
          "name": "stdout"
        }
      ]
    },
    {
      "cell_type": "code",
      "metadata": {
        "colab": {
          "base_uri": "https://localhost:8080/"
        },
        "id": "YxsWem3CbF7l",
        "outputId": "c3cdf4c0-faf4-4092-c9c9-4f00ad9078a3"
      },
      "source": [
        "#WEEK 3 Numpy TASK 3#\n",
        "\n",
        "import numpy as np\n",
        "\n",
        "array=np.arange(10)\n",
        "result=[]\n",
        "for i in array:\n",
        "  if i % 2 == 1:\n",
        "    result.append(i)\n",
        "    print(np.array(result))"
      ],
      "execution_count": 39,
      "outputs": [
        {
          "output_type": "stream",
          "text": [
            "[1]\n",
            "[1 3]\n",
            "[1 3 5]\n",
            "[1 3 5 7]\n",
            "[1 3 5 7 9]\n"
          ],
          "name": "stdout"
        }
      ]
    },
    {
      "cell_type": "code",
      "metadata": {
        "colab": {
          "base_uri": "https://localhost:8080/"
        },
        "id": "5EplouUUgSN9",
        "outputId": "2a81387c-929a-4049-ef49-cc0513478fde"
      },
      "source": [
        "#WEEK 3 Numpy TASK 4#\n",
        "\n",
        "import numpy as np\n",
        "\n",
        "a = np.array([1,2,3,4,5,6,7,8,9,10])\n",
        "\n",
        "odd_values=(a%2 == 1)\n",
        "a[odd_values]=-1\n",
        "print(a)\n"
      ],
      "execution_count": 68,
      "outputs": [
        {
          "output_type": "stream",
          "text": [
            "[-1  2 -1  4 -1  6 -1  8 -1 10]\n"
          ],
          "name": "stdout"
        }
      ]
    },
    {
      "cell_type": "code",
      "metadata": {
        "colab": {
          "base_uri": "https://localhost:8080/"
        },
        "id": "6B0CxsDphp30",
        "outputId": "06898897-8396-41c3-af4b-0f111db1bf04"
      },
      "source": [
        "#WEEK 3 Numpy TASK 5#\n",
        "\n",
        "import numpy as np\n",
        "\n",
        "arr = np.array([0, 1, 2, 3, 4, 5, 6, 7, 8, 9])\n",
        "\n",
        "arr_2d = np.reshape(arr, (2, 5))\n",
        "print(arr_2d)\n",
        "\n"
      ],
      "execution_count": 34,
      "outputs": [
        {
          "output_type": "stream",
          "text": [
            "[[0 1 2 3 4]\n",
            " [5 6 7 8 9]]\n"
          ],
          "name": "stdout"
        }
      ]
    },
    {
      "cell_type": "code",
      "metadata": {
        "colab": {
          "base_uri": "https://localhost:8080/"
        },
        "id": "0rol-oVReH83",
        "outputId": "93aa53c0-af1e-4fdd-f31e-606d70fb7078"
      },
      "source": [
        "#WEEK 3 Numpy TASK 6#\n",
        "\n",
        "import numpy as np\n",
        "\n",
        "a = np.arange(1,10)\n",
        "b = np.arange(10,19)\n",
        "c = np.dot(a,b)\n",
        "\n",
        "new_array =  np.vstack((a,b))\n",
        "print(\"\\nStack arrays in sequence vertically:\")\n",
        "print(new_array)\n",
        "e = np.sum(c,axis=0)\n",
        "print(e)"
      ],
      "execution_count": 59,
      "outputs": [
        {
          "output_type": "stream",
          "text": [
            "\n",
            "Stack arrays in sequence vertically:\n",
            "[[ 1  2  3  4  5  6  7  8  9]\n",
            " [10 11 12 13 14 15 16 17 18]]\n",
            "690\n"
          ],
          "name": "stdout"
        }
      ]
    }
  ]
}