{
 "metadata": {
  "language_info": {
   "codemirror_mode": {
    "name": "ipython",
    "version": 3
   },
   "file_extension": ".py",
   "mimetype": "text/x-python",
   "name": "python",
   "nbconvert_exporter": "python",
   "pygments_lexer": "ipython3",
   "version": "3.9.2-final"
  },
  "orig_nbformat": 2,
  "kernelspec": {
   "name": "python3",
   "display_name": "Python 3.9.2 64-bit",
   "metadata": {
    "interpreter": {
     "hash": "16ec2ecbc0025f78dd890c8fefb75459b65ff39cfbf3b2c3dd89b15612cd8aba"
    }
   }
  }
 },
 "nbformat": 4,
 "nbformat_minor": 2,
 "cells": [
  {
   "cell_type": "code",
   "execution_count": 20,
   "metadata": {},
   "outputs": [
    {
     "output_type": "stream",
     "name": "stdout",
     "text": [
      "Number is greater than 10\n"
     ]
    }
   ],
   "source": [
    "#TASK1#\n",
    "\n",
    "\n",
    "username=input(\"What is your name?\")\n",
    "number_selection=int(input(\"Please choose a whole number, positve or negative without decimals:\"))\n",
    "\n",
    "if number_selection >=10:\n",
    "    print(\"Number is greater than 10\")\n",
    "\n",
    "else:\n",
    "    print(\"Number is smaller than 10\")    \n"
   ]
  },
  {
   "cell_type": "code",
   "execution_count": 22,
   "metadata": {},
   "outputs": [
    {
     "output_type": "stream",
     "name": "stdout",
     "text": [
      "2\n3\n4\n5\n6\n7\n8\n9\n"
     ]
    }
   ],
   "source": [
    "#TASK2#\n",
    "\n",
    "username=input(\"What is your name?\")\n",
    "user_num=input(\"Please enter a number\")\n",
    "\n",
    "user_num=int(user_num)\n",
    "\n",
    "while user_num <10:\n",
    "    print(user_num)\n",
    "\n",
    "    user_num=user_num+1\n",
    "\n"
   ]
  },
  {
   "cell_type": "code",
   "execution_count": 450,
   "metadata": {},
   "outputs": [
    {
     "output_type": "stream",
     "name": "stdout",
     "text": [
      " 1. Yoga,\n",
      " 2. Cross Fit,\n",
      " 3. Well Being,\n",
      " 4. Martial Arts,\n",
      " 5. General Fitness,\n",
      " 6. Boxing,\n",
      " 7. Meditation,\n",
      " 8. Dance \n",
      "\n"
     ]
    }
   ],
   "source": [
    "#TASK3# #Data Flow Diagram CODE#\n",
    "\n",
    "def fitness():\n",
    "    print(\" 1. Yoga,\\n 2. Cross Fit,\\n 3. Well Being,\\n 4. Martial Arts,\\n 5. General Fitness,\\n 6. Boxing,\\n 7. Meditation,\\n 8. Dance \")\n",
    "     \n",
    "\n",
    "username = input(\"What is your name please?\")\n",
    "username1 = input(\"Okay! \" +username + \" What online fitness class would you like to join today?, Please select from the following options:\")\n",
    "select = input(\"\\nselect 1. Yoga , \\nselect 2.Cross Fit, \\nselect 3. Well Being, \\nselect 4. Martial Arts, \\nselect 5. General Fitness, \\nselect 6. Boxing, \\nselect 7. Meditation and \\nselect 8. Dance:\")\n",
    "    \n",
    "    \n",
    "fitness()\n",
    " \n",
    "choice=input(\"Please confirm your choice\")\n",
    "if choice== \"1\":\n",
    "        print (\"Enjoy your Yoga class\")\n",
    "\n",
    "if choice == \"2\":\n",
    "        print(\"Enjoy your Cross Fit class\")\n",
    "\n",
    "if choice == \"3\":\n",
    "        print(\"Enjoy your Well Being class\")\n",
    "\n",
    "if choice == \"4\":\n",
    "        print(\"Enjoy your Martial Arts class\")\n",
    "\n",
    "if choice == \"5\":\n",
    "        print(\"Enjoy your General Fitness class\")\n",
    "      \n",
    "if choice == \"6\":\n",
    "        print(\"Enjoy your Boxing class\")\n",
    "\n",
    "if choice == \"7\":\n",
    "        print(\"Enjoy your Meditation class\")\n",
    "\n",
    "if choice == \"8\":\n",
    "        print(\"Enjoy your Dance class\")\n",
    "\n",
    "\n",
    "print()"
   ]
  },
  {
   "cell_type": "code",
   "execution_count": 27,
   "metadata": {},
   "outputs": [
    {
     "output_type": "stream",
     "name": "stdout",
     "text": [
      "1800\n1620\n1458\n1312\n1180\n1062\n956\n"
     ]
    }
   ],
   "source": [
    "#TASK4#\n",
    "\n",
    "def function_motorbike():\n",
    "    cost = input(\"How much did the motorbike cost\")\n",
    "    percentage = int(input(\"What percentage of the value has been lost every year\"))\n",
    "function_motorbike()\n",
    "\n",
    "cost=input(\"How much did the motorbike cost\")\n",
    "cost=int(2000)\n",
    "percentage=10\n",
    "while cost>1000:\n",
    "    cost-=(cost/percentage)\n",
    "    print(int(cost))\n",
    " \n",
    "\n",
    "\n",
    "   "
   ]
  },
  {
   "cell_type": "code",
   "execution_count": 444,
   "metadata": {},
   "outputs": [
    {
     "output_type": "stream",
     "name": "stdout",
     "text": [
      "Your first chosen number is 1\n",
      "Your choice of math operation is +\n",
      "The second number you chose is 1\n",
      "2\n"
     ]
    }
   ],
   "source": [
    "#TASK5#\n",
    "\n",
    "numput1=int(input(\"Please choose a number\"))\n",
    "print(\"Your first chosen number is\", numput1)\n",
    "op1=input(\"Please choose what math operation you would like to do\")\n",
    "print(\"Your choice of math operation is\", op1)\n",
    "numput2=int(input(\"Please choose a second number\"))\n",
    "print(\"The second number you chose is\", numput2)\n",
    "\n",
    "if (op1 == \"-\"):\n",
    "    choice = numput1 - numput2\n",
    "    print(choice)\n",
    "elif (op1 == \"+\"):\n",
    "    choice = numput1 + numput2\n",
    "    print(choice)\n",
    "elif (op1 == \"/\"):\n",
    "    choice = numput1 / numput2\n",
    "    print(choice)\n",
    "elif (op1 == \"*\"):\n",
    "    choice = numput1 * numput2\n",
    "    print(choice)\n",
    "elif (op1 == \"**\"):\n",
    "    choice = numput1 ** numput2\n",
    "    print(choice)\n",
    "else:\n",
    "    print(\"Invalid choice or operator entered.\")\n",
    "\n",
    "\n",
    "\n",
    "\n"
   ]
  }
 ]
}