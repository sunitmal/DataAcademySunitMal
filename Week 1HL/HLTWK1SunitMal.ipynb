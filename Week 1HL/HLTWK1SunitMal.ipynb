{
 "metadata": {
  "language_info": {
   "codemirror_mode": {
    "name": "ipython",
    "version": 3
   },
   "file_extension": ".py",
   "mimetype": "text/x-python",
   "name": "python",
   "nbconvert_exporter": "python",
   "pygments_lexer": "ipython3",
   "version": "3.9.2-final"
  },
  "orig_nbformat": 2,
  "kernelspec": {
   "name": "python3",
   "display_name": "Python 3.9.2 64-bit",
   "metadata": {
    "interpreter": {
     "hash": "16ec2ecbc0025f78dd890c8fefb75459b65ff39cfbf3b2c3dd89b15612cd8aba"
    }
   }
  }
 },
 "nbformat": 4,
 "nbformat_minor": 2,
 "cells": [
  {
   "cell_type": "code",
   "execution_count": 2,
   "metadata": {},
   "outputs": [
    {
     "output_type": "stream",
     "name": "stdout",
     "text": [
      "Well, I am thinking of a number between 1 and 10.\n"
     ]
    }
   ],
   "source": [
    "#TASK1#\n",
    "\n",
    "import random\n",
    "myName=input(\"Hello! What is your name?\")\n",
    "\n",
    "number=random.randint(1,10)\n",
    "print(\"Well,\"+ myName +\" I am thinking of a number between 1 and 10.\")"
   ]
  },
  {
   "cell_type": "code",
   "execution_count": 117,
   "metadata": {},
   "outputs": [],
   "source": [
    "guess=int(input (\"Take a guess:\"))"
   ]
  },
  {
   "cell_type": "code",
   "execution_count": 118,
   "metadata": {},
   "outputs": [
    {
     "output_type": "stream",
     "name": "stdout",
     "text": [
      "Wrong, better luck next time\n"
     ]
    }
   ],
   "source": [
    "if guess==7:\n",
    "    print(\"Good job,\" + myName + \" You guessed my number\")\n",
    "\n",
    "else:\n",
    "    print(\"Wrong, better luck next time\")    \n"
   ]
  },
  {
   "cell_type": "code",
   "execution_count": 119,
   "metadata": {},
   "outputs": [
    {
     "output_type": "stream",
     "name": "stdout",
     "text": [
      "What is your favorite number between 1 and 100?\n"
     ]
    }
   ],
   "source": [
    "#TASK 2#\n",
    "\n",
    "print(\"What is your favorite number between 1 and 100?\")\n",
    "\n"
   ]
  },
  {
   "cell_type": "code",
   "execution_count": 123,
   "metadata": {},
   "outputs": [
    {
     "output_type": "stream",
     "name": "stdout",
     "text": [
      "How does a computer get drunk?, It takes screenshots!!\n"
     ]
    }
   ],
   "source": [
    "number=random.randint(1,100)\n",
    "guess=int(input(\" Choose any number between 1 and 100:\" ))\n",
    "\n",
    "\n",
    "if guess<22:\n",
    "    print(\" Did you hear about the monkey who went on Amazon, he was a Prime mate\")\n",
    "\n",
    "elif guess<81:\n",
    "    print(\" Don't use beef stew as a computer password. It's not stroganoff \")   \n",
    "\n",
    "if guess>80:\n",
    "    print(\"How does a computer get drunk?, It takes screenshots!!\")     "
   ]
  },
  {
   "cell_type": "code",
   "execution_count": 191,
   "metadata": {},
   "outputs": [
    {
     "output_type": "stream",
     "name": "stdout",
     "text": [
      "Your favourite meal is salad, chicken, ice cream with a glass of red wine\n"
     ]
    }
   ],
   "source": [
    "#TASK 3#\n",
    "\n",
    "Starter=input(\"What is your favourite starter?\")\n",
    "Maincourse=input(\"What is your favourite main course?\")\n",
    "Desert=input(\"What is your favourite desert?\")\n",
    "Drink=input(\"What is your favourite drink?\")\n",
    "    \n",
    "print(\"Your favourite meal is \"+Starter+\", \"+Maincourse+\", \"+Desert+\" with a glass of \"+Drink+\"\")\n"
   ]
  },
  {
   "cell_type": "code",
   "execution_count": 39,
   "metadata": {},
   "outputs": [
    {
     "output_type": "stream",
     "name": "stdout",
     "text": [
      "20.0\n20.0\n20.0\n20.0\n20.0\n20.0\n20.0\n20.0\n20.0\n20.0\n"
     ]
    }
   ],
   "source": [
    "#TASK4#\n",
    "\n",
    "import math\n",
    "\n",
    "i=2000\n",
    "for i in range(1,11):\n",
    "    while i <1000:\n",
    "        print(i)\n",
    "    quotient = 1/5\n",
    "    percentage=quotient*100\n",
    "    print(percentage)\n",
    "    i <= 1000 \n",
    "    \n",
    "    "
   ]
  },
  {
   "cell_type": "code",
   "execution_count": 5,
   "metadata": {},
   "outputs": [
    {
     "output_type": "stream",
     "name": "stdout",
     "text": [
      "200.0\nfinished\n200.0\nfinished\n200.0\nfinished\n200.0\nfinished\n200.0\nfinished\n200.0\nfinished\n200.0\nfinished\n200.0\nfinished\n200.0\nfinished\n200.0\nfinished\n"
     ]
    }
   ],
   "source": [
    "#TASK4#\n",
    "\n",
    "import math\n",
    "\n",
    "i=2000\n",
    "\n",
    "for i in range(1,11):\n",
    "    cost=2000/100\n",
    "    percentage=cost*10\n",
    "    print(percentage)\n",
    "    while(percentage >1000):\n",
    "        break \n",
    "    if(i<1000): \n",
    "        print(\"finished\")"
   ]
  },
  {
   "cell_type": "code",
   "execution_count": 4,
   "metadata": {},
   "outputs": [
    {
     "output_type": "error",
     "ename": "TypeError",
     "evalue": "unsupported operand type(s) for -: 'str' and 'str'",
     "traceback": [
      "\u001b[1;31m---------------------------------------------------------------------------\u001b[0m",
      "\u001b[1;31mTypeError\u001b[0m                                 Traceback (most recent call last)",
      "\u001b[1;32m<ipython-input-4-1ef9a72d5762>\u001b[0m in \u001b[0;36m<module>\u001b[1;34m\u001b[0m\n\u001b[0;32m     10\u001b[0m     \u001b[0mprint\u001b[0m\u001b[1;33m(\u001b[0m\u001b[0msum\u001b[0m\u001b[1;33m)\u001b[0m\u001b[1;33m\u001b[0m\u001b[1;33m\u001b[0m\u001b[0m\n\u001b[0;32m     11\u001b[0m \u001b[1;33m\u001b[0m\u001b[0m\n\u001b[1;32m---> 12\u001b[1;33m \u001b[1;32mif\u001b[0m \u001b[0mguess\u001b[0m\u001b[1;33m==\u001b[0m\u001b[1;33m(\u001b[0m\u001b[0mnumber1\u001b[0m\u001b[1;33m)\u001b[0m\u001b[1;33m-\u001b[0m\u001b[1;33m(\u001b[0m\u001b[0mnumber2\u001b[0m\u001b[1;33m)\u001b[0m\u001b[1;33m:\u001b[0m\u001b[1;33m\u001b[0m\u001b[1;33m\u001b[0m\u001b[0m\n\u001b[0m\u001b[0;32m     13\u001b[0m     \u001b[0mprint\u001b[0m\u001b[1;33m(\u001b[0m\u001b[0msum\u001b[0m\u001b[1;33m)\u001b[0m\u001b[1;33m\u001b[0m\u001b[1;33m\u001b[0m\u001b[0m\n\u001b[0;32m     14\u001b[0m \u001b[1;33m\u001b[0m\u001b[0m\n",
      "\u001b[1;31mTypeError\u001b[0m: unsupported operand type(s) for -: 'str' and 'str'"
     ]
    }
   ],
   "source": [
    "#TASK5#\n",
    "\n",
    "    \n",
    "username = input(\"What is your name please?\")\n",
    "number1 = input(\"Okay! \" +username + \" choose your first number:\")\n",
    "number2 = input(\"Now \" +username + \" choose your second number please:\")\n",
    "username= input(\"select a for add , b for subtract , c for division , d for multiply or e for square root\")\n",
    "\n",
    "if guess==(number1) + (number2):\n",
    "    print(sum)\n",
    "\n",
    "if guess==(number1)-(number2):\n",
    "    print(sum)\n",
    "\n",
    "if guess==(number1)/(number2):\n",
    "    print(sum)\n",
    "\n",
    "if guess==(number1)*(number2):\n",
    "    print(sum)\n",
    "\n",
    "if guess==(number1)**(number2):\n",
    "    print(sum)\n"
   ]
  }
 ]
}